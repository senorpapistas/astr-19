{
 "cells": [
  {
   "cell_type": "markdown",
   "id": "ef75944a",
   "metadata": {},
   "source": [
    "# Final Project - image.fits"
   ]
  },
  {
   "cell_type": "markdown",
   "id": "28c7a797",
   "metadata": {},
   "source": [
    "#### Here we are importing and setting up some modules"
   ]
  },
  {
   "cell_type": "code",
   "execution_count": null,
   "id": "264aff58",
   "metadata": {},
   "outputs": [],
   "source": [
    "import numpy as np\n",
    "import sep"
   ]
  },
  {
   "cell_type": "code",
   "execution_count": null,
   "id": "48fc2fbd",
   "metadata": {},
   "outputs": [],
   "source": [
    "from astropy.io import fits\n",
    "import matplotlib.pyplot as plt\n",
    "from matplotlib import rcParams\n",
    "\n",
    "%matplotlib inline\n",
    "\n",
    "rcParams['figure.figsize'] = [10.,8.]"
   ]
  },
  {
   "cell_type": "markdown",
   "id": "6028aa5c",
   "metadata": {},
   "source": [
    "#### We are now opening and reading in the data from the fits file into a data variable"
   ]
  },
  {
   "cell_type": "code",
   "execution_count": null,
   "id": "9fd38319",
   "metadata": {},
   "outputs": [],
   "source": [
    "hdul = fits.open(\"image.fits\")\n",
    "data = hdul[0].data"
   ]
  },
  {
   "cell_type": "markdown",
   "id": "e7d8f83b",
   "metadata": {},
   "source": [
    "#### The following will display the image we are dealing with"
   ]
  },
  {
   "cell_type": "code",
   "execution_count": null,
   "id": "9e8999e1",
   "metadata": {},
   "outputs": [],
   "source": [
    "m, s = np.mean(data), np.std(data)\n",
    "plt.imshow(data, interpolation = 'nearest', cmap = 'gray', vmin = m - s, vmax = m + s, origin = 'lower')\n",
    "plt.colorbar();\n",
    "plt.savefig(\"final_project_tutorial_figure_1.png\")"
   ]
  },
  {
   "cell_type": "markdown",
   "id": "254229f4",
   "metadata": {},
   "source": [
    "#### We are using the sep background operation to measure the background of the image"
   ]
  },
  {
   "cell_type": "code",
   "execution_count": null,
   "id": "eebbc3bc",
   "metadata": {},
   "outputs": [],
   "source": [
    "bkg = sep.Background(data)"
   ]
  },
  {
   "cell_type": "markdown",
   "id": "aaee9b15",
   "metadata": {},
   "source": [
    "#### The following values are the mean and noise of the background object that was returned previously"
   ]
  },
  {
   "cell_type": "code",
   "execution_count": null,
   "id": "a612199b",
   "metadata": {},
   "outputs": [],
   "source": [
    "print(bkg.globalback)\n",
    "print(bkg.globalrms)"
   ]
  },
  {
   "cell_type": "markdown",
   "id": "a7fb8145",
   "metadata": {},
   "source": [
    "#### We will now interpret the background as an array like before with the image"
   ]
  },
  {
   "cell_type": "code",
   "execution_count": null,
   "id": "6edcfbd2",
   "metadata": {},
   "outputs": [],
   "source": [
    "bkg_image = bkg.back()"
   ]
  },
  {
   "cell_type": "markdown",
   "id": "b7ce2501",
   "metadata": {},
   "source": [
    "#### The following will display the background"
   ]
  },
  {
   "cell_type": "code",
   "execution_count": null,
   "id": "8bb09e20",
   "metadata": {
    "scrolled": false
   },
   "outputs": [],
   "source": [
    "plt.imshow(bkg_image, interpolation = 'nearest', cmap = 'gray', origin = 'lower')\n",
    "plt.colorbar()\n",
    "plt.savefig(\"final_project_tutorial_figure_2.png\")"
   ]
  },
  {
   "cell_type": "markdown",
   "id": "f83e200e",
   "metadata": {},
   "source": [
    "#### Now we will interpret the background noise as an array"
   ]
  },
  {
   "cell_type": "code",
   "execution_count": null,
   "id": "1abd89f2",
   "metadata": {},
   "outputs": [],
   "source": [
    "bkg_rms = bkg.rms()"
   ]
  },
  {
   "cell_type": "markdown",
   "id": "aa9ed6ae",
   "metadata": {},
   "source": [
    "#### The following will display the background noise"
   ]
  },
  {
   "cell_type": "code",
   "execution_count": null,
   "id": "b548516f",
   "metadata": {},
   "outputs": [],
   "source": [
    "plt.imshow(bkg_rms, interpolation = 'nearest', cmap = 'gray', origin = 'lower')\n",
    "plt.colorbar()\n",
    "plt.savefig(\"final_project_tutorial_figure_3.png\")"
   ]
  },
  {
   "cell_type": "markdown",
   "id": "8f63e6d8",
   "metadata": {},
   "source": [
    "#### We are now subtracting the background from the main image"
   ]
  },
  {
   "cell_type": "code",
   "execution_count": null,
   "id": "f72c9abd",
   "metadata": {},
   "outputs": [],
   "source": [
    "data_sub = data - bkg"
   ]
  },
  {
   "cell_type": "markdown",
   "id": "f38c5e7e",
   "metadata": {},
   "source": [
    "#### The following function will detect objects in the image and store these objects in the objects variable"
   ]
  },
  {
   "cell_type": "code",
   "execution_count": null,
   "id": "62b6a6da",
   "metadata": {},
   "outputs": [],
   "source": [
    "objects = sep.extract(data_sub, 1.5, err = bkg.globalrms)"
   ]
  },
  {
   "cell_type": "markdown",
   "id": "047cc3ca",
   "metadata": {},
   "source": [
    "#### We then print out how many objects were detected"
   ]
  },
  {
   "cell_type": "code",
   "execution_count": null,
   "id": "69c6f1d8",
   "metadata": {},
   "outputs": [],
   "source": [
    "len(objects)"
   ]
  },
  {
   "cell_type": "markdown",
   "id": "2e01fd23",
   "metadata": {},
   "source": [
    "#### The following will display the main image with the detected objects circled in red"
   ]
  },
  {
   "cell_type": "code",
   "execution_count": null,
   "id": "f6bbf4c3",
   "metadata": {},
   "outputs": [],
   "source": [
    "from matplotlib.patches import Ellipse\n",
    "\n",
    "fig, ax = plt.subplots()\n",
    "m, s, np.mean(data_sub), np.std(data_sub)\n",
    "im = ax.imshow(data, interpolation = 'nearest', cmap = 'gray', vmin = m - s, vmax = m + s, origin = 'lower')\n",
    "\n",
    "for i in range(len(objects)):\n",
    "    e = Ellipse(xy = (objects['x'][i], objects['y'][i]),\n",
    "                width = 6 * objects['a'][i],\n",
    "                height = 6 * objects['b'][i],\n",
    "                angle = objects['theta'][i] * 180. / np.pi)\n",
    "    e.set_facecolor('none')\n",
    "    e.set_edgecolor('red')\n",
    "    ax.add_artist(e)\n",
    "plt.savefig(\"final_project_tutorial_figure_4.png\")"
   ]
  },
  {
   "cell_type": "markdown",
   "id": "f3c4bb40",
   "metadata": {},
   "source": [
    "#### The following displays the many fields that the objects data type has"
   ]
  },
  {
   "cell_type": "code",
   "execution_count": null,
   "id": "41f6df3b",
   "metadata": {},
   "outputs": [],
   "source": [
    "objects.dtype.names"
   ]
  },
  {
   "cell_type": "markdown",
   "id": "15dfdbdd",
   "metadata": {},
   "source": [
    "#### We will now use some of these fields to perform some aperture photometry"
   ]
  },
  {
   "cell_type": "code",
   "execution_count": null,
   "id": "f65ea3af",
   "metadata": {},
   "outputs": [],
   "source": [
    "flux, fluxerr, flag = sep.sum_circle(data_sub, objects['x'], objects['y'], 3.0, err = bkg.globalrms, gain = 1.0)"
   ]
  },
  {
   "cell_type": "markdown",
   "id": "28428f83",
   "metadata": {},
   "source": [
    "#### The following will display the first ten objects that fall under the guidelines we set above"
   ]
  },
  {
   "cell_type": "code",
   "execution_count": null,
   "id": "0b59fe39",
   "metadata": {},
   "outputs": [],
   "source": [
    "for i in range(10):\n",
    "    print(\"object {:d}: flux = {:f} +/- {:f}\".format(i, flux[i], fluxerr[i]))"
   ]
  }
 ],
 "metadata": {
  "kernelspec": {
   "display_name": "Python 3 (ipykernel)",
   "language": "python",
   "name": "python3"
  },
  "language_info": {
   "codemirror_mode": {
    "name": "ipython",
    "version": 3
   },
   "file_extension": ".py",
   "mimetype": "text/x-python",
   "name": "python",
   "nbconvert_exporter": "python",
   "pygments_lexer": "ipython3",
   "version": "3.10.4"
  }
 },
 "nbformat": 4,
 "nbformat_minor": 5
}
