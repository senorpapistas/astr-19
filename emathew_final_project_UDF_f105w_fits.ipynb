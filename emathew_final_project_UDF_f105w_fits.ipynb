{
 "cells": [
  {
   "cell_type": "markdown",
   "id": "bbf858ff",
   "metadata": {},
   "source": [
    "# Final Project - UDF_f105w.fits"
   ]
  },
  {
   "cell_type": "markdown",
   "id": "e3adeb65",
   "metadata": {},
   "source": [
    "#### Here we are importing and setting up some modules"
   ]
  },
  {
   "cell_type": "code",
   "execution_count": null,
   "id": "6b7d49ff",
   "metadata": {},
   "outputs": [],
   "source": [
    "import numpy as np\n",
    "import sep"
   ]
  },
  {
   "cell_type": "code",
   "execution_count": null,
   "id": "bfb11435",
   "metadata": {},
   "outputs": [],
   "source": [
    "from astropy.io import fits\n",
    "import matplotlib.pyplot as plt\n",
    "from matplotlib import rcParams\n",
    "\n",
    "%matplotlib inline\n",
    "\n",
    "rcParams['figure.figsize'] = [10.,10.]"
   ]
  },
  {
   "cell_type": "markdown",
   "id": "f93d74ff",
   "metadata": {},
   "source": [
    "#### Below we have a rescale image function, this will be used to rescale the data later for the 3 color false image"
   ]
  },
  {
   "cell_type": "code",
   "execution_count": null,
   "id": "837e1314",
   "metadata": {},
   "outputs": [],
   "source": [
    "def rescale_image(data):\n",
    "    pdata_tmp = data.copy()\n",
    "    m = np.nanmean(pdata_tmp)\n",
    "    vplmin = m / 2.\n",
    "    vpmin = np.log10(vplmin)\n",
    "    vpmax = np.log10(m * 100.)\n",
    "    pdata_tmp[pdata_tmp < vplmin] = vplmin\n",
    "    pdata_tmp = np.log10(pdata_tmp)\n",
    "    return pdata_tmp, vpmin, vpmax"
   ]
  },
  {
   "cell_type": "markdown",
   "id": "71341bdf",
   "metadata": {},
   "source": [
    "#### We are now opening and reading in the data from the fits file into a data variable, here we are also using the byteswap operation"
   ]
  },
  {
   "cell_type": "code",
   "execution_count": null,
   "id": "b3275c57",
   "metadata": {},
   "outputs": [],
   "source": [
    "hdul = fits.open(\"hlsp_hudf12_hst_wfc3ir_udfmain_f105w_v1.0_drz.fits\")\n",
    "data = hdul[0].data\n",
    "data = data.byteswap(inplace = True).newbyteorder()"
   ]
  },
  {
   "cell_type": "markdown",
   "id": "2a69626a",
   "metadata": {},
   "source": [
    "#### The following will display the image we are dealing with"
   ]
  },
  {
   "cell_type": "code",
   "execution_count": null,
   "id": "45ab1b0c",
   "metadata": {},
   "outputs": [],
   "source": [
    "m, s = np.mean(data), np.std(data)\n",
    "plt.imshow(data, interpolation = 'nearest', cmap = 'gray', vmin = m - s, vmax = m + s, origin = 'lower')\n",
    "plt.colorbar();\n",
    "plt.savefig(\"final_project_tutorial_UDF_figure_1.png\")"
   ]
  },
  {
   "cell_type": "markdown",
   "id": "ea787e36",
   "metadata": {},
   "source": [
    "#### We are using the sep background operation to measure the background of the image"
   ]
  },
  {
   "cell_type": "code",
   "execution_count": null,
   "id": "9f53b099",
   "metadata": {},
   "outputs": [],
   "source": [
    "bkg = sep.Background(data)"
   ]
  },
  {
   "cell_type": "markdown",
   "id": "5a51f209",
   "metadata": {},
   "source": [
    "#### The following values are the mean and noise of the background object that was returned previously"
   ]
  },
  {
   "cell_type": "code",
   "execution_count": null,
   "id": "552ecb29",
   "metadata": {},
   "outputs": [],
   "source": [
    "print(bkg.globalback)\n",
    "print(bkg.globalrms)"
   ]
  },
  {
   "cell_type": "markdown",
   "id": "59db50e4",
   "metadata": {},
   "source": [
    "#### We will now interpret the background as an array like before with the image"
   ]
  },
  {
   "cell_type": "code",
   "execution_count": null,
   "id": "a7e53aea",
   "metadata": {},
   "outputs": [],
   "source": [
    "bkg_image = bkg.back()"
   ]
  },
  {
   "cell_type": "markdown",
   "id": "815b199d",
   "metadata": {},
   "source": [
    "#### The following will display the background"
   ]
  },
  {
   "cell_type": "code",
   "execution_count": null,
   "id": "ab52f6aa",
   "metadata": {},
   "outputs": [],
   "source": [
    "plt.imshow(bkg_image, interpolation = 'nearest', cmap = 'gray', origin = 'lower')\n",
    "plt.colorbar()\n",
    "plt.savefig(\"final_project_tutorial_UDF_figure_2.png\")"
   ]
  },
  {
   "cell_type": "markdown",
   "id": "40146321",
   "metadata": {},
   "source": [
    "#### Now we will interpret the background noise as an array"
   ]
  },
  {
   "cell_type": "code",
   "execution_count": null,
   "id": "aa0b2457",
   "metadata": {},
   "outputs": [],
   "source": [
    "bkg_rms = bkg.rms()"
   ]
  },
  {
   "cell_type": "markdown",
   "id": "8e367d49",
   "metadata": {},
   "source": [
    "#### The following will display the background noise"
   ]
  },
  {
   "cell_type": "code",
   "execution_count": null,
   "id": "011542e8",
   "metadata": {},
   "outputs": [],
   "source": [
    "plt.imshow(bkg_rms, interpolation = 'nearest', cmap = 'gray', origin = 'lower')\n",
    "plt.colorbar()\n",
    "plt.savefig(\"final_project_tutorial_UDF_figure_3.png\")"
   ]
  },
  {
   "cell_type": "markdown",
   "id": "eaf672fa",
   "metadata": {},
   "source": [
    "#### We are now subtracting the background from the main image"
   ]
  },
  {
   "cell_type": "code",
   "execution_count": null,
   "id": "5c7038f8",
   "metadata": {},
   "outputs": [],
   "source": [
    "data_sub = data - bkg"
   ]
  },
  {
   "cell_type": "markdown",
   "id": "668e29cc",
   "metadata": {},
   "source": [
    "#### The following function will detect objects in the image and store these objects in the objects variable"
   ]
  },
  {
   "cell_type": "code",
   "execution_count": null,
   "id": "2b76ba40",
   "metadata": {},
   "outputs": [],
   "source": [
    "objects = sep.extract(data_sub, 1.5, err = bkg.globalrms)"
   ]
  },
  {
   "cell_type": "markdown",
   "id": "a1f954c3",
   "metadata": {},
   "source": [
    "#### We then print out how many objects were detected"
   ]
  },
  {
   "cell_type": "code",
   "execution_count": null,
   "id": "ca5a7366",
   "metadata": {},
   "outputs": [],
   "source": [
    "len(objects)"
   ]
  },
  {
   "cell_type": "markdown",
   "id": "06998e51",
   "metadata": {},
   "source": [
    "#### The following will display the main image with the detected objects circled in red"
   ]
  },
  {
   "cell_type": "code",
   "execution_count": null,
   "id": "b7d7a4ab",
   "metadata": {},
   "outputs": [],
   "source": [
    "from matplotlib.patches import Ellipse\n",
    "\n",
    "fig, ax = plt.subplots()\n",
    "m, s, np.mean(data_sub), np.std(data_sub)\n",
    "im = ax.imshow(data_sub, interpolation = 'nearest', cmap = 'gray', vmin = m - s, vmax = m + s, origin = 'lower')\n",
    "\n",
    "for i in range(len(objects)):\n",
    "    e = Ellipse(xy = (objects['x'][i], objects['y'][i]),\n",
    "                width = 6 * objects['a'][i],\n",
    "                height = 6 * objects['b'][i],\n",
    "                angle = objects['theta'][i] * 180. / np.pi)\n",
    "    e.set_facecolor('none')\n",
    "    e.set_edgecolor('red')\n",
    "    ax.add_artist(e)\n",
    "plt.savefig(\"final_project_tutorial_UDF_figure_4.png\")"
   ]
  },
  {
   "cell_type": "markdown",
   "id": "a0b859a6",
   "metadata": {},
   "source": [
    "#### The following displays the many fields that the objects data type has"
   ]
  },
  {
   "cell_type": "code",
   "execution_count": null,
   "id": "bff56155",
   "metadata": {},
   "outputs": [],
   "source": [
    "objects.dtype.names"
   ]
  },
  {
   "cell_type": "markdown",
   "id": "80577926",
   "metadata": {},
   "source": [
    "#### We will now use some of these fields to perform some aperture photometry"
   ]
  },
  {
   "cell_type": "code",
   "execution_count": null,
   "id": "1d3ccd9f",
   "metadata": {},
   "outputs": [],
   "source": [
    "flux, fluxerr, flag = sep.sum_circle(data_sub, objects['x'], objects['y'], 3.0, err = bkg.globalrms, gain = 1.0)"
   ]
  },
  {
   "cell_type": "markdown",
   "id": "cadc38f2",
   "metadata": {},
   "source": [
    "#### The following will display the first ten objects that fall under the guidelines we set above"
   ]
  },
  {
   "cell_type": "code",
   "execution_count": null,
   "id": "1c4bfb39",
   "metadata": {},
   "outputs": [],
   "source": [
    "for i in range(10):\n",
    "    print(\"object {:d}: flux = {:f} +/- {:f}\".format(i, flux[i], fluxerr[i]))"
   ]
  },
  {
   "cell_type": "markdown",
   "id": "1c4f0c12",
   "metadata": {},
   "source": [
    "#### Here we are creating a histogram for the fluxes"
   ]
  },
  {
   "cell_type": "code",
   "execution_count": null,
   "id": "8ecbb5bf",
   "metadata": {},
   "outputs": [],
   "source": [
    "plt.hist(flux, histtype = \"barstacked\", edgecolor = \"black\", bins = 100, range = (0, .2))\n",
    "plt.xlabel(\"fluxes\")\n",
    "plt.ylabel(\"sources\")"
   ]
  },
  {
   "cell_type": "markdown",
   "id": "249a39a1",
   "metadata": {},
   "source": [
    "#### I have printed the mean, median, standard deviation, and standard deviations from the mean below; I have also attempted to pinpoint the location of the largest outlier"
   ]
  },
  {
   "cell_type": "code",
   "execution_count": null,
   "id": "92c93752",
   "metadata": {},
   "outputs": [],
   "source": [
    "print(f\"mean is                 {np.mean(flux):.20f}\")\n",
    "print(f\"median is               {np.median(flux):.20f}\")\n",
    "print(f\"standard deviation is   {np.std(flux):.20f}\")\n",
    "print(f\"\\nThe largest outlier is {((np.max(flux) - np.mean(flux)) / np.std(flux)):.20f} standard deviations away from the mean\")\n",
    "print(\"As for where this outlier is, I would say it is around (2050, 1350) as the noise is the highest there\")"
   ]
  },
  {
   "cell_type": "markdown",
   "id": "82b59535",
   "metadata": {},
   "source": [
    "#### We are now opening and reading in data from 2 more fits for a 3 color false image"
   ]
  },
  {
   "cell_type": "code",
   "execution_count": null,
   "id": "46f6c3ca",
   "metadata": {},
   "outputs": [],
   "source": [
    "hdul_125 = fits.open(\"hlsp_hudf12_hst_wfc3ir_udfmain_f125w_v1.0_drz.fits\")\n",
    "data_125 = hdul_125[0].data\n",
    "data_125 = data_125.byteswap(inplace = True).newbyteorder()\n",
    "\n",
    "hdul_160 = fits.open(\"hlsp_hudf12_hst_wfc3ir_udfmain_f160w_v1.0_drz.fits\")\n",
    "data_160 = hdul_160[0].data\n",
    "data_160 = data_160.byteswap(inplace = True).newbyteorder()"
   ]
  },
  {
   "cell_type": "markdown",
   "id": "edd645d1",
   "metadata": {},
   "source": [
    "#### Here, we are making use of the rescale image function declared earlier to get the rescaled images, minimums, and maximums; we are also limiting each of the images using the minimums and maximums"
   ]
  },
  {
   "cell_type": "code",
   "execution_count": null,
   "id": "670e7636",
   "metadata": {},
   "outputs": [],
   "source": [
    "d105_res, d105_min, d105_max = rescale_image(data)\n",
    "d125_res, d125_min, d125_max = rescale_image(data_125)\n",
    "d160_res, d160_min, d160_max = rescale_image(data_160)\n",
    "\n",
    "d105_res[d105_res < d105_min] = d105_min\n",
    "d105_res[d105_res > d105_max] = d105_max\n",
    "d125_res[d125_res < d125_min] = d125_min\n",
    "d125_res[d125_res > d125_max] = d125_max\n",
    "d160_res[d160_res < d160_min] = d160_min\n",
    "d160_res[d160_res > d160_max] = d160_max"
   ]
  },
  {
   "cell_type": "markdown",
   "id": "22a0f096",
   "metadata": {},
   "source": [
    "#### The following section creates the final image using the 3 previous rescaled images"
   ]
  },
  {
   "cell_type": "code",
   "execution_count": null,
   "id": "ef7291f3",
   "metadata": {},
   "outputs": [],
   "source": [
    "rgb = np.zeros((d105_res.shape[0], d105_res.shape[1], 3))\n",
    "rgb[:,:,0] = (d160_res - d160_min) / (d160_max - d160_min)\n",
    "rgb[:,:,1] = (d125_res - d125_min) / (d125_max - d125_min)\n",
    "rgb[:,:,2] = (d105_res - d105_min) / (d105_max - d105_min)"
   ]
  },
  {
   "cell_type": "markdown",
   "id": "e36bf5e0",
   "metadata": {},
   "source": [
    "#### Finally, the final image is being displayed and saved as a png"
   ]
  },
  {
   "cell_type": "code",
   "execution_count": null,
   "id": "0417c1fd",
   "metadata": {},
   "outputs": [],
   "source": [
    "f, ax = plt.subplots(1, 1, figsize = (10., 10.))\n",
    "ax.axis('off')\n",
    "ax.imshow(rgb)\n",
    "plt.savefig(\"final_project_3_color_false_image.png\", bbox_inches = \"tight\", pad_inches = 0, dpi = 600)"
   ]
  }
 ],
 "metadata": {
  "kernelspec": {
   "display_name": "Python 3 (ipykernel)",
   "language": "python",
   "name": "python3"
  },
  "language_info": {
   "codemirror_mode": {
    "name": "ipython",
    "version": 3
   },
   "file_extension": ".py",
   "mimetype": "text/x-python",
   "name": "python",
   "nbconvert_exporter": "python",
   "pygments_lexer": "ipython3",
   "version": "3.10.4"
  }
 },
 "nbformat": 4,
 "nbformat_minor": 5
}
