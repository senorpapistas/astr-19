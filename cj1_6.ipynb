{
 "cells": [
  {
   "cell_type": "markdown",
   "id": "64b28e06",
   "metadata": {},
   "source": [
    "# Code Journal #1 Entry #6"
   ]
  },
  {
   "cell_type": "markdown",
   "id": "505c4241",
   "metadata": {},
   "source": [
    "#### We will be using numpy throughout this entry."
   ]
  },
  {
   "cell_type": "code",
   "execution_count": 17,
   "id": "104f0eb9",
   "metadata": {},
   "outputs": [],
   "source": [
    "import numpy as np"
   ]
  },
  {
   "cell_type": "markdown",
   "id": "ab97c309",
   "metadata": {},
   "source": [
    "#### This is the sin(x) function, which will return the calculated sin(x) using the numpy.sin() function."
   ]
  },
  {
   "cell_type": "code",
   "execution_count": 13,
   "id": "5b076308",
   "metadata": {},
   "outputs": [],
   "source": [
    "def sin_x(x):\n",
    "    return np.sin(x)"
   ]
  },
  {
   "cell_type": "markdown",
   "id": "8f65e6eb",
   "metadata": {},
   "source": [
    "#### This is the cos(x) function, which will return the calculated cos(x) using the numpy.cos() function."
   ]
  },
  {
   "cell_type": "code",
   "execution_count": 14,
   "id": "c5ba9c49",
   "metadata": {},
   "outputs": [],
   "source": [
    "def cos_x(x):\n",
    "    return np.cos(x)"
   ]
  },
  {
   "cell_type": "markdown",
   "id": "350b94a9",
   "metadata": {},
   "source": [
    "#### This is the tabulation function. This function will create a table of groups and x-values, sin(x)'s, and cos(x)'s. The x-values will be between 0 and 2pi and there will be a thousand of them."
   ]
  },
  {
   "cell_type": "code",
   "execution_count": 15,
   "id": "ac9050dc",
   "metadata": {},
   "outputs": [],
   "source": [
    "tabulation = []\n",
    "x_table = np.arange(0, 2 * np.pi + 2 * np.pi / 1000, 2 * np.pi / 1000, dtype = float)\n",
    "for i in x_table:\n",
    "    tabulation.append([i, sin_x(i), cos_x(i)])"
   ]
  },
  {
   "cell_type": "markdown",
   "id": "c6689353",
   "metadata": {},
   "source": [
    "#### This will print out the first 10 entries of the table created above."
   ]
  },
  {
   "cell_type": "code",
   "execution_count": 33,
   "id": "2c9748c8",
   "metadata": {},
   "outputs": [
    {
     "name": "stdout",
     "output_type": "stream",
     "text": [
      "x                      | sin(x)                 | cos(x)\n",
      "------------------------------------------------------------------------\n",
      "0.00000000000000000000 | 0.00000000000000000000 | 1.00000000000000000000\n",
      "0.00628318530717958661 | 0.00628314396555895108 | 0.99998026085613711533\n",
      "0.01256637061435917323 | 0.01256603988335260741 | 0.99992104420381611174\n",
      "0.01884955592153875897 | 0.01884843971540817523 | 0.99982235238080896522\n",
      "0.02513274122871834645 | 0.02513009544333747944 | 0.99968418928329993989\n",
      "0.03141592653589793394 | 0.03141075907812829193 | 0.99950656036573160002\n",
      "0.03769911184307751795 | 0.03769018266993454103 | 0.99928947264058920474\n",
      "0.04398229715025710890 | 0.04396811831786490848 | 0.99903293467812470663\n",
      "0.05026548245743669291 | 0.05024431817976955650 | 0.99873695660601746749\n",
      "0.05654866776461627692 | 0.05651853448202452668 | 0.99840155010897502219\n"
     ]
    }
   ],
   "source": [
    "print(\"x                      | sin(x)                 | cos(x)\")\n",
    "print(\"------------------------------------------------------------------------\")\n",
    "for i in range(10):\n",
    "    print(f\"{tabulation[i][0]:.20f} | {tabulation[i][1]:.20f} | {tabulation[i][2]:.20f}\")"
   ]
  }
 ],
 "metadata": {
  "kernelspec": {
   "display_name": "Python 3 (ipykernel)",
   "language": "python",
   "name": "python3"
  },
  "language_info": {
   "codemirror_mode": {
    "name": "ipython",
    "version": 3
   },
   "file_extension": ".py",
   "mimetype": "text/x-python",
   "name": "python",
   "nbconvert_exporter": "python",
   "pygments_lexer": "ipython3",
   "version": "3.10.4"
  }
 },
 "nbformat": 4,
 "nbformat_minor": 5
}
