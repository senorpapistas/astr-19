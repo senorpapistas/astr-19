{
 "cells": [
  {
   "cell_type": "markdown",
   "id": "64b28e06",
   "metadata": {},
   "source": [
    "# Code Journal #1 Entry #6"
   ]
  },
  {
   "cell_type": "markdown",
   "id": "505c4241",
   "metadata": {},
   "source": [
    "#### We will be using numpy throughout this entry."
   ]
  },
  {
   "cell_type": "code",
   "execution_count": null,
   "id": "104f0eb9",
   "metadata": {},
   "outputs": [],
   "source": [
    "import numpy as np"
   ]
  },
  {
   "cell_type": "markdown",
   "id": "ab97c309",
   "metadata": {},
   "source": [
    "#### This is the sin(x) function, which will return the calculated sin(x) using the numpy.sin() function."
   ]
  },
  {
   "cell_type": "code",
   "execution_count": null,
   "id": "5b076308",
   "metadata": {},
   "outputs": [],
   "source": [
    "def sin_x(x):\n",
    "    return np.sin(x)"
   ]
  },
  {
   "cell_type": "markdown",
   "id": "8f65e6eb",
   "metadata": {},
   "source": [
    "#### This is the cos(x) function, which will return the calculated cos(x) using the numpy.cos() function."
   ]
  },
  {
   "cell_type": "code",
   "execution_count": null,
   "id": "c5ba9c49",
   "metadata": {},
   "outputs": [],
   "source": [
    "def cos_x(x):\n",
    "    return np.cos(x)"
   ]
  },
  {
   "cell_type": "markdown",
   "id": "350b94a9",
   "metadata": {},
   "source": [
    "#### This is the tabulation function. This function will create a table of groups and x-values, sin(x)'s, and cos(x)'s. The x-values will be between 0 and 2pi and there will be a thousand of them."
   ]
  },
  {
   "cell_type": "code",
   "execution_count": null,
   "id": "ac9050dc",
   "metadata": {},
   "outputs": [],
   "source": [
    "tabulation = []\n",
    "x_table = np.arange(0, 2 * np.pi + 2 * np.pi / 1000, 2 * np.pi / 1000, dtype = float)\n",
    "for i in x_table:\n",
    "    tabulation.append([i, sin_x(i), cos_x(i)])"
   ]
  },
  {
   "cell_type": "markdown",
   "id": "c6689353",
   "metadata": {},
   "source": [
    "#### This will print out the first 10 entries of the table created above."
   ]
  },
  {
   "cell_type": "code",
   "execution_count": null,
   "id": "2c9748c8",
   "metadata": {},
   "outputs": [],
   "source": [
    "print(\"x                      | sin(x)                 | cos(x)\")\n",
    "print(\"------------------------------------------------------------------------\")\n",
    "for i in range(10):\n",
    "    print(f\"{tabulation[i][0]:.20f} | {tabulation[i][1]:.20f} | {tabulation[i][2]:.20f}\")"
   ]
  }
 ],
 "metadata": {
  "kernelspec": {
   "display_name": "Python 3 (ipykernel)",
   "language": "python",
   "name": "python3"
  },
  "language_info": {
   "codemirror_mode": {
    "name": "ipython",
    "version": 3
   },
   "file_extension": ".py",
   "mimetype": "text/x-python",
   "name": "python",
   "nbconvert_exporter": "python",
   "pygments_lexer": "ipython3",
   "version": "3.10.4"
  }
 },
 "nbformat": 4,
 "nbformat_minor": 5
}
