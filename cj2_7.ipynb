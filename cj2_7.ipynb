{
 "cells": [
  {
   "cell_type": "markdown",
   "id": "496e7d89",
   "metadata": {},
   "source": [
    "# Code Journal #2 Entry #7"
   ]
  },
  {
   "cell_type": "code",
   "execution_count": null,
   "id": "d6acb4a4",
   "metadata": {},
   "outputs": [],
   "source": [
    "import matplotlib.pyplot as plt\n",
    "import numpy as np"
   ]
  },
  {
   "cell_type": "markdown",
   "id": "afffda2d",
   "metadata": {},
   "source": [
    "#### This is the exp(x) function"
   ]
  },
  {
   "cell_type": "code",
   "execution_count": null,
   "id": "387382af",
   "metadata": {},
   "outputs": [],
   "source": [
    "def exp_x(x):\n",
    "    return np.exp(x)"
   ]
  },
  {
   "cell_type": "markdown",
   "id": "977bbe6d",
   "metadata": {},
   "source": [
    "#### We create our array with numpy.linspace"
   ]
  },
  {
   "cell_type": "code",
   "execution_count": null,
   "id": "0282be13",
   "metadata": {},
   "outputs": [],
   "source": [
    "x = np.linspace(0, 1, 100)"
   ]
  },
  {
   "cell_type": "code",
   "execution_count": null,
   "id": "d77ce39a",
   "metadata": {},
   "outputs": [],
   "source": [
    "y = exp_x(x)"
   ]
  },
  {
   "cell_type": "markdown",
   "id": "4dbed881",
   "metadata": {},
   "source": [
    "#### We will plot out our array vs the exp(array)"
   ]
  },
  {
   "cell_type": "code",
   "execution_count": null,
   "id": "601ff533",
   "metadata": {},
   "outputs": [],
   "source": [
    "plt.plot(x, y)\n",
    "plt.xlabel(\"Time [milliseconds]\")\n",
    "plt.ylabel(\"Awesomeness\")\n",
    "plt.savefig(\"cj2_7_figure.pdf\")"
   ]
  }
 ],
 "metadata": {
  "kernelspec": {
   "display_name": "Python 3 (ipykernel)",
   "language": "python",
   "name": "python3"
  },
  "language_info": {
   "codemirror_mode": {
    "name": "ipython",
    "version": 3
   },
   "file_extension": ".py",
   "mimetype": "text/x-python",
   "name": "python",
   "nbconvert_exporter": "python",
   "pygments_lexer": "ipython3",
   "version": "3.10.4"
  }
 },
 "nbformat": 4,
 "nbformat_minor": 5
}
