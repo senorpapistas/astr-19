{
 "cells": [
  {
   "cell_type": "markdown",
   "id": "096c84a9",
   "metadata": {},
   "source": [
    "# Code Journal 2 Entry 9"
   ]
  },
  {
   "cell_type": "code",
   "execution_count": null,
   "id": "6f77017b",
   "metadata": {},
   "outputs": [],
   "source": [
    "import matplotlib.pyplot as plt\n",
    "import numpy as np"
   ]
  },
  {
   "cell_type": "markdown",
   "id": "42419476",
   "metadata": {},
   "source": [
    "#### The 1000 numbers are pulled using this line"
   ]
  },
  {
   "cell_type": "code",
   "execution_count": null,
   "id": "68b6d582",
   "metadata": {},
   "outputs": [],
   "source": [
    "x = np.random.random(1000)"
   ]
  },
  {
   "cell_type": "markdown",
   "id": "5c1aa93c",
   "metadata": {},
   "source": [
    "#### These 1000 numbers are then plotted into a histogram with 100 bins"
   ]
  },
  {
   "cell_type": "code",
   "execution_count": null,
   "id": "f14e6ddc",
   "metadata": {},
   "outputs": [],
   "source": [
    "plt.hist(x, 100, edgecolor = \"black\")\n",
    "plt.xlabel(\"x\")\n",
    "plt.ylabel(\"N per bin\")\n",
    "plt.savefig(\"cj2_8_figure.pdf\")"
   ]
  }
 ],
 "metadata": {
  "kernelspec": {
   "display_name": "Python 3 (ipykernel)",
   "language": "python",
   "name": "python3"
  },
  "language_info": {
   "codemirror_mode": {
    "name": "ipython",
    "version": 3
   },
   "file_extension": ".py",
   "mimetype": "text/x-python",
   "name": "python",
   "nbconvert_exporter": "python",
   "pygments_lexer": "ipython3",
   "version": "3.10.4"
  }
 },
 "nbformat": 4,
 "nbformat_minor": 5
}
