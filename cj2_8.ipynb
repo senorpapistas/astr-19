{
 "cells": [
  {
   "cell_type": "markdown",
   "id": "681b0fc0",
   "metadata": {},
   "source": [
    "# Code Journal #2 Entry #8"
   ]
  },
  {
   "cell_type": "code",
   "execution_count": null,
   "id": "7a88fe0e",
   "metadata": {},
   "outputs": [],
   "source": [
    "import matplotlib.pyplot as plt\n",
    "import numpy as np"
   ]
  },
  {
   "cell_type": "markdown",
   "id": "b488b698",
   "metadata": {},
   "source": [
    "#### Below are the 2 specified functions, one returns sin(x) and the other cos(x)"
   ]
  },
  {
   "cell_type": "code",
   "execution_count": null,
   "id": "f627ed06",
   "metadata": {},
   "outputs": [],
   "source": [
    "def sin_x(x):\n",
    "    return np.sin(x)"
   ]
  },
  {
   "cell_type": "code",
   "execution_count": null,
   "id": "c7d7e468",
   "metadata": {},
   "outputs": [],
   "source": [
    "def cos_x(x):\n",
    "    return np.cos(x)"
   ]
  },
  {
   "cell_type": "markdown",
   "id": "c9ebab6a",
   "metadata": {},
   "source": [
    "#### This creates the array"
   ]
  },
  {
   "cell_type": "code",
   "execution_count": null,
   "id": "1ad1e70b",
   "metadata": {},
   "outputs": [],
   "source": [
    "x = np.linspace(0, 1, 100)"
   ]
  },
  {
   "cell_type": "markdown",
   "id": "6762c1d1",
   "metadata": {},
   "source": [
    "#### 2 figures are plotted below using plt.subplots, both are saved onto a pdf"
   ]
  },
  {
   "cell_type": "code",
   "execution_count": null,
   "id": "69a01b46",
   "metadata": {},
   "outputs": [],
   "source": [
    "figure, plots = plt.subplots(1, 2)\n",
    "\n",
    "plots[0].plot(x, sin_x(x), color = \"navy\")\n",
    "plots[0].set_xlabel(\"x\")\n",
    "plots[0].set_ylabel(\"sin(x)\")\n",
    "plots[0].set_title(r\"$\\sin(x)$\")\n",
    "\n",
    "plots[1].plot(x, cos_x(x), color = \"maroon\")\n",
    "plots[1].set_xlabel(\"x\")\n",
    "plots[1].set_ylabel(\"cos(x)\")\n",
    "plots[1].set_title(r\"$\\cos(x)$\")\n",
    "\n",
    "figure.subplots_adjust(wspace = 0.4)\n",
    "\n",
    "plt.savefig(\"cj2_8_figure.pdf\")"
   ]
  }
 ],
 "metadata": {
  "kernelspec": {
   "display_name": "Python 3 (ipykernel)",
   "language": "python",
   "name": "python3"
  },
  "language_info": {
   "codemirror_mode": {
    "name": "ipython",
    "version": 3
   },
   "file_extension": ".py",
   "mimetype": "text/x-python",
   "name": "python",
   "nbconvert_exporter": "python",
   "pygments_lexer": "ipython3",
   "version": "3.10.4"
  }
 },
 "nbformat": 4,
 "nbformat_minor": 5
}
