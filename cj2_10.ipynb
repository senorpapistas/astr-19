{
 "cells": [
  {
   "cell_type": "markdown",
   "id": "5e8880c3",
   "metadata": {},
   "source": [
    "# Code Journal 2 Entry 10"
   ]
  },
  {
   "cell_type": "code",
   "execution_count": null,
   "id": "fecb9bbf",
   "metadata": {},
   "outputs": [],
   "source": [
    "import matplotlib.pyplot as plt\n",
    "import numpy as np"
   ]
  },
  {
   "cell_type": "markdown",
   "id": "2f5f5966",
   "metadata": {},
   "source": [
    "#### I picked the weibull random number distribution, I just liked the name"
   ]
  },
  {
   "cell_type": "code",
   "execution_count": null,
   "id": "ae6bd0da",
   "metadata": {},
   "outputs": [],
   "source": [
    "x = np.random.weibull(7, 1000)"
   ]
  },
  {
   "cell_type": "markdown",
   "id": "640888fa",
   "metadata": {},
   "source": [
    "#### Below I plotted my random distribution into 100 bins"
   ]
  },
  {
   "cell_type": "code",
   "execution_count": null,
   "id": "9f3a16a9",
   "metadata": {},
   "outputs": [],
   "source": [
    "plt.hist(x, 100, edgecolor = \"black\")\n",
    "plt.xlabel(\"x\")\n",
    "plt.ylabel(\"N per bin\")\n",
    "plt.savefig(\"cj2_10_figure.pdf\")"
   ]
  }
 ],
 "metadata": {
  "kernelspec": {
   "display_name": "Python 3 (ipykernel)",
   "language": "python",
   "name": "python3"
  },
  "language_info": {
   "codemirror_mode": {
    "name": "ipython",
    "version": 3
   },
   "file_extension": ".py",
   "mimetype": "text/x-python",
   "name": "python",
   "nbconvert_exporter": "python",
   "pygments_lexer": "ipython3",
   "version": "3.10.4"
  }
 },
 "nbformat": 4,
 "nbformat_minor": 5
}
